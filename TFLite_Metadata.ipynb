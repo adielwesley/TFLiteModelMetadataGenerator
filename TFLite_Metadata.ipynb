{
  "nbformat": 4,
  "nbformat_minor": 0,
  "metadata": {
    "colab": {
      "name": "TFLite Metadata.ipynb",
      "provenance": [],
      "collapsed_sections": [],
      "authorship_tag": "ABX9TyOUDdnuHbBLJ7K/CkbSHUsC",
      "include_colab_link": true
    },
    "kernelspec": {
      "name": "python3",
      "display_name": "Python 3"
    },
    "language_info": {
      "name": "python"
    }
  },
  "cells": [
    {
      "cell_type": "markdown",
      "metadata": {
        "id": "view-in-github",
        "colab_type": "text"
      },
      "source": [
        "<a href=\"https://colab.research.google.com/github/adielwesley/tflite_model_metadata_generator/blob/main/TFLite_Metadata.ipynb\" target=\"_parent\"><img src=\"https://colab.research.google.com/assets/colab-badge.svg\" alt=\"Open In Colab\"/></a>"
      ]
    },
    {
      "cell_type": "code",
      "source": [
        "!pip install tflite-support"
      ],
      "metadata": {
        "colab": {
          "base_uri": "https://localhost:8080/"
        },
        "id": "gfEQB1yyavFf",
        "outputId": "9fc8e789-a3a7-4387-b10c-10df4f88b8c2"
      },
      "execution_count": 1,
      "outputs": [
        {
          "output_type": "stream",
          "name": "stdout",
          "text": [
            "Collecting tflite-support\n",
            "  Downloading tflite_support-0.3.1-cp37-cp37m-manylinux_2_12_x86_64.manylinux2010_x86_64.whl (1.1 MB)\n",
            "\u001b[K     |████████████████████████████████| 1.1 MB 5.1 MB/s \n",
            "\u001b[?25hRequirement already satisfied: absl-py>=0.7.0 in /usr/local/lib/python3.7/dist-packages (from tflite-support) (1.0.0)\n",
            "Collecting pybind11>=2.6.0\n",
            "  Downloading pybind11-2.9.2-py2.py3-none-any.whl (213 kB)\n",
            "\u001b[K     |████████████████████████████████| 213 kB 49.3 MB/s \n",
            "\u001b[?25hCollecting flatbuffers<2,>=1.12\n",
            "  Downloading flatbuffers-1.12-py2.py3-none-any.whl (15 kB)\n",
            "Requirement already satisfied: numpy>=1.19.2 in /usr/local/lib/python3.7/dist-packages (from tflite-support) (1.21.6)\n",
            "Requirement already satisfied: six in /usr/local/lib/python3.7/dist-packages (from absl-py>=0.7.0->tflite-support) (1.15.0)\n",
            "Installing collected packages: pybind11, flatbuffers, tflite-support\n",
            "  Attempting uninstall: flatbuffers\n",
            "    Found existing installation: flatbuffers 2.0\n",
            "    Uninstalling flatbuffers-2.0:\n",
            "      Successfully uninstalled flatbuffers-2.0\n",
            "\u001b[31mERROR: pip's dependency resolver does not currently take into account all the packages that are installed. This behaviour is the source of the following dependency conflicts.\n",
            "tensorflow 2.8.0 requires tf-estimator-nightly==2.8.0.dev2021122109, which is not installed.\u001b[0m\n",
            "Successfully installed flatbuffers-1.12 pybind11-2.9.2 tflite-support-0.3.1\n"
          ]
        }
      ]
    },
    {
      "cell_type": "code",
      "execution_count": 2,
      "metadata": {
        "id": "hoBpzaoYaaxy"
      },
      "outputs": [],
      "source": [
        "from tflite_support import flatbuffers\n",
        "from tflite_support import metadata as _metadata\n",
        "from tflite_support import metadata_schema_py_generated as _metadata_fb\n",
        "\n",
        "import os"
      ]
    },
    {
      "cell_type": "code",
      "source": [
        "\"\"\" ... \"\"\"\n",
        "\"\"\"Creates the metadata for an image classifier.\"\"\"\n",
        "\n",
        "# Creates model info.\n",
        "model_meta = _metadata_fb.ModelMetadataT()\n",
        "model_meta.name = \"MobileNetV1 image classifier\"\n",
        "model_meta.description = (\"Identify the most prominent object in the \"\n",
        "                          \"image from a set of 1,001 categories such as \"\n",
        "                          \"trees, animals, food, vehicles, person etc.\")\n",
        "model_meta.version = \"v1\"\n",
        "model_meta.author = \"TensorFlow\"\n",
        "model_meta.license = (\"Apache License. Version 2.0 \"\n",
        "                      \"http://www.apache.org/licenses/LICENSE-2.0.\")"
      ],
      "metadata": {
        "id": "m9ZuHAxgagm2"
      },
      "execution_count": 6,
      "outputs": []
    },
    {
      "cell_type": "code",
      "source": [
        "# Creates input info.\n",
        "input_meta = _metadata_fb.TensorMetadataT()\n",
        "\n",
        "input_meta.description = (\n",
        "    \"Input image to be classified. The expected image is {0} x {1}, with \"\n",
        "    \"three channels (red, blue, and green) per pixel. Each value in the \"\n",
        "    \"tensor is a single byte between 0 and 255.\".format(160, 160))\n",
        "input_meta.content = _metadata_fb.ContentT()\n",
        "input_meta.content.contentProperties = _metadata_fb.ImagePropertiesT()\n",
        "input_meta.content.contentProperties.colorSpace = (\n",
        "    _metadata_fb.ColorSpaceType.RGB)\n",
        "input_meta.content.contentPropertiesType = (\n",
        "    _metadata_fb.ContentProperties.ImageProperties)\n",
        "\n",
        "input_normalization = _metadata_fb.ProcessUnitT()\n",
        "input_normalization.optionsType = (\n",
        "    _metadata_fb.ProcessUnitOptions.NormalizationOptions)\n",
        "input_normalization.options = _metadata_fb.NormalizationOptionsT()\n",
        "input_normalization.options.mean = [127.5]\n",
        "input_normalization.options.std = [127.5]\n",
        "input_meta.processUnits = [input_normalization]\n",
        "\n",
        "input_stats = _metadata_fb.StatsT()\n",
        "input_stats.max = [255]\n",
        "input_stats.min = [0]\n",
        "input_meta.stats = input_stats"
      ],
      "metadata": {
        "id": "UmyX60oBc1TI"
      },
      "execution_count": 3,
      "outputs": []
    },
    {
      "cell_type": "code",
      "source": [
        "# Creates output info.\n",
        "output_meta = _metadata_fb.TensorMetadataT()\n",
        "output_meta.name = \"probability\"\n",
        "output_meta.description = \"Probabilities of the 1001 labels respectively.\"\n",
        "\n",
        "output_meta.content = _metadata_fb.ContentT()\n",
        "output_meta.content.content_properties = _metadata_fb.FeaturePropertiesT()\n",
        "output_meta.content.contentPropertiesType = (\n",
        "    _metadata_fb.ContentProperties.FeatureProperties)\n",
        "\n",
        "output_stats = _metadata_fb.StatsT()\n",
        "output_stats.max = [1.0]\n",
        "output_stats.min = [0.0]\n",
        "output_meta.stats = output_stats\n",
        "\n",
        "label_file = _metadata_fb.AssociatedFileT()\n",
        "label_file.name = os.path.basename(\"/content/labels_ic.txt\")\n",
        "label_file.description = \"Labels for objects that the model can recognize.\"\n",
        "label_file.type = _metadata_fb.AssociatedFileType.TENSOR_AXIS_LABELS\n",
        "output_meta.associatedFiles = [label_file]"
      ],
      "metadata": {
        "id": "ImQjHgqCdnyL"
      },
      "execution_count": 4,
      "outputs": []
    },
    {
      "cell_type": "code",
      "source": [
        "# Creates subgraph info.\n",
        "subgraph = _metadata_fb.SubGraphMetadataT()\n",
        "subgraph.inputTensorMetadata = [input_meta]\n",
        "subgraph.outputTensorMetadata = [output_meta]\n",
        "model_meta.subgraphMetadata = [subgraph]\n",
        "\n",
        "b = flatbuffers.Builder(0)\n",
        "b.Finish(\n",
        "    model_meta.Pack(b),\n",
        "    _metadata.MetadataPopulator.METADATA_FILE_IDENTIFIER)\n",
        "metadata_buf = b.Output()"
      ],
      "metadata": {
        "id": "8DO6ecPvdqwY"
      },
      "execution_count": 7,
      "outputs": []
    },
    {
      "cell_type": "code",
      "source": [
        "populator = _metadata.MetadataPopulator.with_model_file(\"mobilenet_v1_0.75_160_quantized_1_default_1.tflite\")\n",
        "populator.load_metadata_buffer(metadata_buf)\n",
        "populator.load_associated_files([\"labels_ic.txt\"])\n",
        "populator.populate()"
      ],
      "metadata": {
        "id": "8A_tMP_1tyEJ"
      },
      "execution_count": 8,
      "outputs": []
    },
    {
      "cell_type": "code",
      "source": [
        "export_model_path = \"/content/mobilenet_v1_0.75_160_quantized_1_default_1.tflite\"\n",
        "export_directory = \"/content/\"\n",
        "model_basename = \"mobilenet_with_metadata\""
      ],
      "metadata": {
        "id": "GWyyqHrhZckT"
      },
      "execution_count": 11,
      "outputs": []
    },
    {
      "cell_type": "code",
      "source": [
        "displayer = _metadata.MetadataDisplayer.with_model_file(export_model_path)\n",
        "export_json_file = os.path.join(export_directory, os.path.splitext(model_basename)[0] + \".json\")\n",
        "json_file = displayer.get_metadata_json()\n",
        "\n",
        "# Optional: write out the metadata as a json file\n",
        "with open(export_json_file, \"w\") as f:\n",
        "  f.write(json_file)"
      ],
      "metadata": {
        "id": "ZjLxCOMMz_YS"
      },
      "execution_count": 12,
      "outputs": []
    }
  ]
}